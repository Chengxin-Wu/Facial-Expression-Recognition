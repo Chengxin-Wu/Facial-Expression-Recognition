{
  "cells": [
    {
      "cell_type": "code",
      "source": [
        "from google.colab import drive\n",
        "drive.mount('/content/drive')"
      ],
      "metadata": {
        "colab": {
          "base_uri": "https://localhost:8080/"
        },
        "id": "gOE8aHfYvucw",
        "outputId": "7336849d-0c11-4f16-c6f8-f03391794aa2"
      },
      "execution_count": 10,
      "outputs": [
        {
          "output_type": "stream",
          "name": "stdout",
          "text": [
            "Drive already mounted at /content/drive; to attempt to forcibly remount, call drive.mount(\"/content/drive\", force_remount=True).\n"
          ]
        }
      ]
    },
    {
      "cell_type": "code",
      "source": [
        "def load_data(data_file):\n",
        "    data = pd.read_csv(data_file)\n",
        "\n",
        "    # Extract pixels and emotions\n",
        "    pixels = data['pixels'].tolist()\n",
        "    emotions = pd.get_dummies(data['emotion']).to_numpy()\n",
        "\n",
        "    # Convert pixels to 3D array and add channel dimension\n",
        "    faces = np.array([np.fromstring(pixel_sequence, dtype=int, sep=' ').reshape(48, 48) for pixel_sequence in pixels])\n",
        "    faces = np.expand_dims(faces, axis=-1)\n",
        "\n",
        "    return faces, emotions"
      ],
      "metadata": {
        "id": "rkAjF_hRAKcZ"
      },
      "execution_count": 11,
      "outputs": []
    },
    {
      "cell_type": "code",
      "source": [
        "import torch\n",
        "from torch.utils.data import Dataset, DataLoader\n",
        "from sklearn.preprocessing import OneHotEncoder\n",
        "\n",
        "class CustomDataset(Dataset):\n",
        "    def __init__(self, data_file, reshape=True, dtype=torch.float32, seed=None):\n",
        "        self.data = pd.read_csv(data_file)\n",
        "        self.images = self.data['pixels'].apply(lambda x: np.fromstring(x, dtype=int, sep=' ').reshape(48, 48))\n",
        "        self.labels = self.data['emotion'].values.reshape(-1, 1)\n",
        "\n",
        "        if reshape:\n",
        "            self.images = np.stack(self.images).reshape(-1, 48*48)\n",
        "\n",
        "        self.labels = OneHotEncoder(sparse=False).fit_transform(self.labels)\n",
        "        self.images = torch.tensor(self.images, dtype=dtype) / 255.0\n",
        "        self.labels = torch.tensor(self.labels, dtype=dtype)\n",
        "\n",
        "    def __len__(self):\n",
        "        return len(self.data)\n",
        "\n",
        "    def __getitem__(self, idx):\n",
        "        return self.images[idx], self.labels[idx]\n"
      ],
      "metadata": {
        "id": "FmeitdgZANyY"
      },
      "execution_count": 12,
      "outputs": []
    },
    {
      "cell_type": "code",
      "source": [
        "import collections\n",
        "import numpy as np\n",
        "import pandas as pd\n",
        "from tensorflow.python.framework import dtypes, random_seed\n",
        "\n",
        "train_data = \"/content/drive/MyDrive/CV/fer2013.csv\""
      ],
      "metadata": {
        "id": "iiRAiYnn0i6G"
      },
      "execution_count": 13,
      "outputs": []
    },
    {
      "cell_type": "code",
      "source": [
        "dataset = CustomDataset(train_data)"
      ],
      "metadata": {
        "colab": {
          "base_uri": "https://localhost:8080/"
        },
        "id": "uJuqEnP91PTg",
        "outputId": "2e0979a3-71c2-4d75-c74a-a4f2f42ad4cc"
      },
      "execution_count": 14,
      "outputs": [
        {
          "output_type": "stream",
          "name": "stderr",
          "text": [
            "/usr/local/lib/python3.10/dist-packages/sklearn/preprocessing/_encoders.py:868: FutureWarning: `sparse` was renamed to `sparse_output` in version 1.2 and will be removed in 1.4. `sparse_output` is ignored unless you leave `sparse` to its default value.\n",
            "  warnings.warn(\n"
          ]
        }
      ]
    },
    {
      "cell_type": "code",
      "source": [
        "from sklearn.model_selection import train_test_split\n",
        "\n",
        "train_ratio = 0.7\n",
        "val_ratio = 0.15\n",
        "test_ratio = 0.15\n",
        "\n",
        "# Splitting into training and remaining sets\n",
        "train_data, remaining_data = train_test_split(dataset, test_size=(val_ratio + test_ratio))\n",
        "\n",
        "# Splitting remaining set into validation and test sets\n",
        "val_data, test_data = train_test_split(remaining_data, test_size=test_ratio / (val_ratio + test_ratio))\n",
        "\n",
        "# Create DataLoader objects for training, validation, and test sets\n",
        "batch_size = 32\n",
        "train_loader = DataLoader(train_data, batch_size=batch_size, shuffle=True)\n",
        "val_loader = DataLoader(val_data, batch_size=batch_size, shuffle=False)\n",
        "test_loader = DataLoader(test_data, batch_size=batch_size, shuffle=False)\n"
      ],
      "metadata": {
        "id": "V2MAEaXz2IHm"
      },
      "execution_count": 15,
      "outputs": []
    },
    {
      "cell_type": "code",
      "source": [
        "import torch\n",
        "import torch.nn as nn\n",
        "import torch.optim as optim\n",
        "from torch.utils.data import DataLoader\n",
        "from sklearn.metrics import accuracy_score\n",
        "import torch.nn.functional as F\n",
        "\n",
        "# Define the CNN model\n",
        "class CNN(nn.Module):\n",
        "    def __init__(self):\n",
        "        super(CNN, self).__init__()\n",
        "\n",
        "        # First convolutional layer\n",
        "        self.conv1 = nn.Conv2d(1, 32, kernel_size=3, padding=1)  # 1 input channel (grayscale), 32 output channels\n",
        "        self.pool1 = nn.MaxPool2d(kernel_size=2, stride=2)  # Downsampling layer\n",
        "\n",
        "        # Second convolutional layer\n",
        "        self.conv2 = nn.Conv2d(32, 64, kernel_size=3, padding=1)  # 32 input channels, 64 output channels\n",
        "        self.pool2 = nn.MaxPool2d(kernel_size=2, stride=2)  # Downsampling layer\n",
        "\n",
        "        # Third convolutional layer\n",
        "        self.conv3 = nn.Conv2d(64, 128, kernel_size=3, padding=1)  # 64 input channels, 128 output channels\n",
        "\n",
        "        # Fourth convolutional layer\n",
        "        self.conv4 = nn.Conv2d(128, 128, kernel_size=3, padding=1)  # 128 input channels, 128 output channels\n",
        "        self.pool3 = nn.MaxPool2d(kernel_size=2, stride=2)  # Third downsampling layer\n",
        "\n",
        "        # LSTM layer\n",
        "        self.lstm = nn.LSTM(input_size=4608, hidden_size=128, num_layers=1, batch_first=True)\n",
        "\n",
        "        # Fully connected layers\n",
        "        self.fc1 = nn.Linear(128, 192)\n",
        "        self.fc2 = nn.Linear(192, 7)\n",
        "\n",
        "        # Classification layer and softmax layer for classification\n",
        "        self.classification_layer = nn.Linear(7, 7)\n",
        "        self.softmax = nn.Softmax(dim=1)\n",
        "\n",
        "        # Activation function and dropout\n",
        "        self.relu = nn.ReLU()\n",
        "        self.dropout = nn.Dropout(0.5)\n",
        "\n",
        "    def forward(self, x):\n",
        "        # Adjust input tensor shape to match the convolutional layers' required dimensions\n",
        "        # Assume input image size is 48x48, with 1 channel (grayscale)\n",
        "        x = x.view(-1, 1, 48, 48)\n",
        "\n",
        "        # First convolutional layer\n",
        "        x = self.relu(self.conv1(x))\n",
        "        x = self.pool1(x)\n",
        "\n",
        "        # Second convolutional layer\n",
        "        x = self.relu(self.conv2(x))\n",
        "        x = self.pool2(x)\n",
        "\n",
        "        # Third convolutional layer\n",
        "        x = self.relu(self.conv3(x))\n",
        "\n",
        "        # Fourth convolutional layer\n",
        "        x = self.relu(self.conv4(x))\n",
        "        x = self.pool3(x)\n",
        "\n",
        "        # Flatten the tensor for the fully connected layer\n",
        "        x = x.view(x.size(0), -1)\n",
        "\n",
        "        # LSTM section\n",
        "        x, _ = self.lstm(x.unsqueeze(1))\n",
        "\n",
        "        # Choose the last output state of the LSTM\n",
        "        x = x[:, -1, :]\n",
        "\n",
        "        # Fully connected layers\n",
        "        x = self.relu(self.fc1(x))\n",
        "        x = self.dropout(x)\n",
        "        x = self.relu(self.fc2(x))\n",
        "\n",
        "        x = self.classification_layer(x)\n",
        "        x = self.softmax(x)\n",
        "\n",
        "        return x\n",
        "\n",
        "# Instantiate the CNN model\n",
        "model = CNN()\n",
        "\n",
        "# Define the loss function and optimizer\n",
        "criterion = nn.CrossEntropyLoss()\n",
        "optimizer = optim.Adam(model.parameters(), lr=0.0001)\n",
        "\n",
        "# Define the device\n",
        "device = torch.device(\"cuda\" if torch.cuda.is_available() else \"cpu\")\n",
        "\n",
        "# Move model to the device\n",
        "model.to(device)\n",
        "\n",
        "# Training loop\n",
        "num_epochs = 100\n",
        "for epoch in range(num_epochs):\n",
        "    model.train()  # Set model to training mode\n",
        "    for images, labels in train_loader:\n",
        "        images, labels = images.to(device), labels.to(device)  # Move data to device\n",
        "        optimizer.zero_grad()  # Zero the gradients\n",
        "        outputs = model(images)  # Forward pass\n",
        "        loss = criterion(outputs, torch.argmax(labels, dim=1))  # Compute the loss\n",
        "        loss.backward()  # Backward pass\n",
        "        optimizer.step()  # Update the weights\n",
        "\n",
        "    # Validate the model\n",
        "    model.eval()  # Set model to evaluation mode\n",
        "    val_losses = []\n",
        "    val_predictions = []\n",
        "    val_true_labels = []\n",
        "    with torch.no_grad():\n",
        "        for images, labels in val_loader:\n",
        "            images, labels = images.to(device), labels.to(device)  # Move data to device\n",
        "            outputs = model(images)  # Forward pass\n",
        "            val_loss = criterion(outputs, torch.argmax(labels, dim=1))  # Compute the loss\n",
        "            val_losses.append(val_loss.item())\n",
        "            val_predictions.extend(torch.argmax(outputs, dim=1).cpu().numpy())\n",
        "            val_true_labels.extend(torch.argmax(labels, dim=1).cpu().numpy())\n",
        "\n",
        "    # Calculate validation accuracy\n",
        "    val_accuracy = accuracy_score(val_true_labels, val_predictions)\n",
        "\n",
        "    # Print epoch information\n",
        "    print(f'Epoch [{epoch+1}/{num_epochs}], '\n",
        "          f'Training Loss: {loss.item():.4f}, '\n",
        "          f'Validation Loss: {sum(val_losses)/len(val_losses)}, '\n",
        "          f'Validation Accuracy: {val_accuracy:.4f}')\n"
      ],
      "metadata": {
        "colab": {
          "base_uri": "https://localhost:8080/"
        },
        "id": "LlIIMpWL2dA2",
        "outputId": "12ccdc64-bbc3-4675-d45b-95c9971c7219"
      },
      "execution_count": 18,
      "outputs": [
        {
          "output_type": "stream",
          "name": "stdout",
          "text": [
            "Epoch [1/100], Training Loss: 1.9069, Validation Loss: 1.897296810996603, Validation Accuracy: 0.2478\n",
            "Epoch [2/100], Training Loss: 1.8160, Validation Loss: 1.8884951101957694, Validation Accuracy: 0.2478\n",
            "Epoch [3/100], Training Loss: 1.8334, Validation Loss: 1.8292520758668347, Validation Accuracy: 0.3192\n",
            "Epoch [4/100], Training Loss: 1.8230, Validation Loss: 1.7972438391849135, Validation Accuracy: 0.3561\n",
            "Epoch [5/100], Training Loss: 1.8049, Validation Loss: 1.7797857840385662, Validation Accuracy: 0.3801\n",
            "Epoch [6/100], Training Loss: 1.7040, Validation Loss: 1.7583414316177368, Validation Accuracy: 0.3992\n",
            "Epoch [7/100], Training Loss: 1.7206, Validation Loss: 1.746565298921258, Validation Accuracy: 0.4117\n",
            "Epoch [8/100], Training Loss: 1.7970, Validation Loss: 1.737416736472993, Validation Accuracy: 0.4202\n",
            "Epoch [9/100], Training Loss: 1.6586, Validation Loss: 1.7343042947836882, Validation Accuracy: 0.4202\n",
            "Epoch [10/100], Training Loss: 1.7441, Validation Loss: 1.725534547010117, Validation Accuracy: 0.4332\n",
            "Epoch [11/100], Training Loss: 1.7247, Validation Loss: 1.7303782242995043, Validation Accuracy: 0.4258\n",
            "Epoch [12/100], Training Loss: 1.8050, Validation Loss: 1.7197091233800854, Validation Accuracy: 0.4369\n",
            "Epoch [13/100], Training Loss: 1.7584, Validation Loss: 1.722289129121769, Validation Accuracy: 0.4334\n",
            "Epoch [14/100], Training Loss: 1.6314, Validation Loss: 1.7183983008537067, Validation Accuracy: 0.4371\n",
            "Epoch [15/100], Training Loss: 1.5504, Validation Loss: 1.7129105230760293, Validation Accuracy: 0.4462\n",
            "Epoch [16/100], Training Loss: 1.7077, Validation Loss: 1.710149805221332, Validation Accuracy: 0.4464\n",
            "Epoch [17/100], Training Loss: 1.6788, Validation Loss: 1.7081358587953466, Validation Accuracy: 0.4510\n",
            "Epoch [18/100], Training Loss: 1.6128, Validation Loss: 1.7081124676755195, Validation Accuracy: 0.4497\n",
            "Epoch [19/100], Training Loss: 1.5672, Validation Loss: 1.706659473611053, Validation Accuracy: 0.4490\n",
            "Epoch [20/100], Training Loss: 1.7122, Validation Loss: 1.7050171385149984, Validation Accuracy: 0.4522\n",
            "Epoch [21/100], Training Loss: 1.5736, Validation Loss: 1.7022922561013487, Validation Accuracy: 0.4557\n",
            "Epoch [22/100], Training Loss: 1.7152, Validation Loss: 1.7028732666602502, Validation Accuracy: 0.4535\n",
            "Epoch [23/100], Training Loss: 1.5309, Validation Loss: 1.698278753715154, Validation Accuracy: 0.4592\n",
            "Epoch [24/100], Training Loss: 1.5837, Validation Loss: 1.7017705384090807, Validation Accuracy: 0.4570\n",
            "Epoch [25/100], Training Loss: 1.7597, Validation Loss: 1.6984834776827569, Validation Accuracy: 0.4572\n",
            "Epoch [26/100], Training Loss: 1.4751, Validation Loss: 1.6968715698761347, Validation Accuracy: 0.4620\n",
            "Epoch [27/100], Training Loss: 1.5067, Validation Loss: 1.694498079062919, Validation Accuracy: 0.4618\n",
            "Epoch [28/100], Training Loss: 1.7156, Validation Loss: 1.6960549827158098, Validation Accuracy: 0.4611\n",
            "Epoch [29/100], Training Loss: 1.5992, Validation Loss: 1.6939756842054559, Validation Accuracy: 0.4663\n",
            "Epoch [30/100], Training Loss: 1.7517, Validation Loss: 1.6925158274949654, Validation Accuracy: 0.4652\n",
            "Epoch [31/100], Training Loss: 1.5686, Validation Loss: 1.693778738467651, Validation Accuracy: 0.4642\n",
            "Epoch [32/100], Training Loss: 1.5285, Validation Loss: 1.6908897909187002, Validation Accuracy: 0.4674\n",
            "Epoch [33/100], Training Loss: 1.5932, Validation Loss: 1.6926673481450278, Validation Accuracy: 0.4707\n",
            "Epoch [34/100], Training Loss: 1.4755, Validation Loss: 1.6926012800995416, Validation Accuracy: 0.4652\n",
            "Epoch [35/100], Training Loss: 1.6623, Validation Loss: 1.6911789609130317, Validation Accuracy: 0.4676\n",
            "Epoch [36/100], Training Loss: 1.5773, Validation Loss: 1.6841219268606964, Validation Accuracy: 0.4732\n",
            "Epoch [37/100], Training Loss: 1.5145, Validation Loss: 1.688195219406715, Validation Accuracy: 0.4713\n",
            "Epoch [38/100], Training Loss: 1.4941, Validation Loss: 1.6818201160995212, Validation Accuracy: 0.4774\n",
            "Epoch [39/100], Training Loss: 1.6006, Validation Loss: 1.6833253725040593, Validation Accuracy: 0.4722\n",
            "Epoch [40/100], Training Loss: 1.4579, Validation Loss: 1.6863292928278093, Validation Accuracy: 0.4726\n",
            "Epoch [41/100], Training Loss: 1.5606, Validation Loss: 1.6880516688499225, Validation Accuracy: 0.4735\n",
            "Epoch [42/100], Training Loss: 1.5388, Validation Loss: 1.6788803952685474, Validation Accuracy: 0.4800\n",
            "Epoch [43/100], Training Loss: 1.5206, Validation Loss: 1.6774268453643166, Validation Accuracy: 0.4784\n",
            "Epoch [44/100], Training Loss: 1.3898, Validation Loss: 1.6716226734353241, Validation Accuracy: 0.4860\n",
            "Epoch [45/100], Training Loss: 1.3919, Validation Loss: 1.6704806258692544, Validation Accuracy: 0.4891\n",
            "Epoch [46/100], Training Loss: 1.5650, Validation Loss: 1.6700891834744336, Validation Accuracy: 0.4895\n",
            "Epoch [47/100], Training Loss: 1.4613, Validation Loss: 1.671126115251575, Validation Accuracy: 0.4884\n",
            "Epoch [48/100], Training Loss: 1.4767, Validation Loss: 1.6717112226599067, Validation Accuracy: 0.4856\n",
            "Epoch [49/100], Training Loss: 1.5381, Validation Loss: 1.6731485220102162, Validation Accuracy: 0.4850\n",
            "Epoch [50/100], Training Loss: 1.4550, Validation Loss: 1.6724933964260937, Validation Accuracy: 0.4889\n",
            "Epoch [51/100], Training Loss: 1.3651, Validation Loss: 1.6722249885987954, Validation Accuracy: 0.4839\n",
            "Epoch [52/100], Training Loss: 1.4528, Validation Loss: 1.6706740637502726, Validation Accuracy: 0.4839\n",
            "Epoch [53/100], Training Loss: 1.5005, Validation Loss: 1.6716806324275992, Validation Accuracy: 0.4828\n",
            "Epoch [54/100], Training Loss: 1.4460, Validation Loss: 1.6729721557459183, Validation Accuracy: 0.4823\n",
            "Epoch [55/100], Training Loss: 1.4081, Validation Loss: 1.6739206878391244, Validation Accuracy: 0.4811\n",
            "Epoch [56/100], Training Loss: 1.3646, Validation Loss: 1.6785350353760127, Validation Accuracy: 0.4739\n",
            "Epoch [57/100], Training Loss: 1.3092, Validation Loss: 1.6767095390861557, Validation Accuracy: 0.4810\n",
            "Epoch [58/100], Training Loss: 1.4274, Validation Loss: 1.6771440364905363, Validation Accuracy: 0.4797\n",
            "Epoch [59/100], Training Loss: 1.4405, Validation Loss: 1.6750631163106162, Validation Accuracy: 0.4804\n",
            "Epoch [60/100], Training Loss: 1.4370, Validation Loss: 1.6765338210664558, Validation Accuracy: 0.4763\n",
            "Epoch [61/100], Training Loss: 1.2932, Validation Loss: 1.6730440523497452, Validation Accuracy: 0.4826\n",
            "Epoch [62/100], Training Loss: 1.3664, Validation Loss: 1.670972582856579, Validation Accuracy: 0.4871\n",
            "Epoch [63/100], Training Loss: 1.3893, Validation Loss: 1.678426679069474, Validation Accuracy: 0.4758\n",
            "Epoch [64/100], Training Loss: 1.4031, Validation Loss: 1.6740484794921424, Validation Accuracy: 0.4815\n",
            "Epoch [65/100], Training Loss: 1.4655, Validation Loss: 1.6761871498717358, Validation Accuracy: 0.4813\n",
            "Epoch [66/100], Training Loss: 1.3568, Validation Loss: 1.6817418329814482, Validation Accuracy: 0.4759\n",
            "Epoch [67/100], Training Loss: 1.3320, Validation Loss: 1.673787301108682, Validation Accuracy: 0.4841\n",
            "Epoch [68/100], Training Loss: 1.3433, Validation Loss: 1.671379658597461, Validation Accuracy: 0.4854\n",
            "Epoch [69/100], Training Loss: 1.3838, Validation Loss: 1.6735098086870634, Validation Accuracy: 0.4811\n",
            "Epoch [70/100], Training Loss: 1.4043, Validation Loss: 1.679643314971021, Validation Accuracy: 0.4774\n",
            "Epoch [71/100], Training Loss: 1.3503, Validation Loss: 1.6727157556093657, Validation Accuracy: 0.4856\n",
            "Epoch [72/100], Training Loss: 1.3458, Validation Loss: 1.6764312834429318, Validation Accuracy: 0.4821\n",
            "Epoch [73/100], Training Loss: 1.4181, Validation Loss: 1.6787306888569036, Validation Accuracy: 0.4769\n",
            "Epoch [74/100], Training Loss: 1.3505, Validation Loss: 1.6739914713526618, Validation Accuracy: 0.4839\n",
            "Epoch [75/100], Training Loss: 1.3426, Validation Loss: 1.66658991398896, Validation Accuracy: 0.4908\n",
            "Epoch [76/100], Training Loss: 1.3596, Validation Loss: 1.6754071606686836, Validation Accuracy: 0.4836\n",
            "Epoch [77/100], Training Loss: 1.3489, Validation Loss: 1.6758217190849711, Validation Accuracy: 0.4813\n",
            "Epoch [78/100], Training Loss: 1.2399, Validation Loss: 1.670577174107704, Validation Accuracy: 0.4867\n",
            "Epoch [79/100], Training Loss: 1.2212, Validation Loss: 1.6710139181486954, Validation Accuracy: 0.4884\n",
            "Epoch [80/100], Training Loss: 1.2708, Validation Loss: 1.6744417537598921, Validation Accuracy: 0.4810\n",
            "Epoch [81/100], Training Loss: 1.2945, Validation Loss: 1.6767726783921733, Validation Accuracy: 0.4789\n",
            "Epoch [82/100], Training Loss: 1.2832, Validation Loss: 1.6692684289266373, Validation Accuracy: 0.4867\n",
            "Epoch [83/100], Training Loss: 1.3535, Validation Loss: 1.6716376190354838, Validation Accuracy: 0.4847\n",
            "Epoch [84/100], Training Loss: 1.3700, Validation Loss: 1.6683131583343596, Validation Accuracy: 0.4915\n",
            "Epoch [85/100], Training Loss: 1.4535, Validation Loss: 1.6696525240790914, Validation Accuracy: 0.4880\n",
            "Epoch [86/100], Training Loss: 1.2410, Validation Loss: 1.6614407237464859, Validation Accuracy: 0.4977\n",
            "Epoch [87/100], Training Loss: 1.3241, Validation Loss: 1.6709014699303892, Validation Accuracy: 0.4850\n",
            "Epoch [88/100], Training Loss: 1.2956, Validation Loss: 1.6698352063195945, Validation Accuracy: 0.4893\n",
            "Epoch [89/100], Training Loss: 1.2950, Validation Loss: 1.6721739698443892, Validation Accuracy: 0.4858\n",
            "Epoch [90/100], Training Loss: 1.2672, Validation Loss: 1.674855268918551, Validation Accuracy: 0.4839\n",
            "Epoch [91/100], Training Loss: 1.4149, Validation Loss: 1.6692941019520957, Validation Accuracy: 0.4893\n",
            "Epoch [92/100], Training Loss: 1.2657, Validation Loss: 1.6656054173700907, Validation Accuracy: 0.4936\n",
            "Epoch [93/100], Training Loss: 1.2887, Validation Loss: 1.668656344244466, Validation Accuracy: 0.4891\n",
            "Epoch [94/100], Training Loss: 1.3498, Validation Loss: 1.6675604673532338, Validation Accuracy: 0.4888\n",
            "Epoch [95/100], Training Loss: 1.3196, Validation Loss: 1.673035002319065, Validation Accuracy: 0.4862\n",
            "Epoch [96/100], Training Loss: 1.2645, Validation Loss: 1.6683814723110764, Validation Accuracy: 0.4904\n",
            "Epoch [97/100], Training Loss: 1.2505, Validation Loss: 1.6753145110677685, Validation Accuracy: 0.4821\n",
            "Epoch [98/100], Training Loss: 1.2874, Validation Loss: 1.6749855075362166, Validation Accuracy: 0.4821\n",
            "Epoch [99/100], Training Loss: 1.2930, Validation Loss: 1.6676018167529585, Validation Accuracy: 0.4906\n",
            "Epoch [100/100], Training Loss: 1.3269, Validation Loss: 1.6683623064199142, Validation Accuracy: 0.4910\n"
          ]
        }
      ]
    },
    {
      "cell_type": "code",
      "source": [
        "# Set the model to evaluation mode\n",
        "model.eval()\n",
        "\n",
        "# Store test loss and predicted labels\n",
        "test_losses = []\n",
        "test_predictions = []\n",
        "test_true_labels = []\n",
        "\n",
        "# No need for gradient computation during testing\n",
        "with torch.no_grad():\n",
        "    for images, labels in test_loader:\n",
        "        # Move data to the device (CPU or GPU)\n",
        "        images, labels = images.to(device), labels.to(device)\n",
        "\n",
        "        # Forward pass\n",
        "        outputs = model(images)\n",
        "\n",
        "        # Calculate test loss\n",
        "        test_loss = criterion(outputs, torch.argmax(labels, dim=1))\n",
        "        test_losses.append(test_loss.item())\n",
        "\n",
        "        # Get the predicted labels from the model\n",
        "        test_predictions.extend(torch.argmax(outputs, dim=1).cpu().numpy())\n",
        "        # Get the true labels\n",
        "        test_true_labels.extend(torch.argmax(labels, dim=1).cpu().numpy())\n",
        "\n",
        "# Calculate average loss on the test set\n",
        "avg_test_loss = sum(test_losses) / len(test_losses)\n",
        "\n",
        "# Calculate accuracy on the test set\n",
        "test_accuracy = accuracy_score(test_true_labels, test_predictions)\n",
        "\n",
        "# Print test results\n",
        "print(f'Test Loss: {avg_test_loss:.4f}, Test Accuracy: {test_accuracy:.4f}')"
      ],
      "metadata": {
        "colab": {
          "base_uri": "https://localhost:8080/"
        },
        "id": "cnpsPDqmUgfh",
        "outputId": "43510d8a-0b65-42c6-b0dd-fe9c9320d53b"
      },
      "execution_count": 19,
      "outputs": [
        {
          "output_type": "stream",
          "name": "stdout",
          "text": [
            "Test Loss: 1.6669, Test Accuracy: 0.4941\n"
          ]
        }
      ]
    },
    {
      "cell_type": "code",
      "source": [
        "model_path = '/content/drive/MyDrive/CV/cnn_lstm.pth'\n",
        "\n",
        "torch.save(model.state_dict(), model_path)\n",
        "print(f'Model saved to {model_path}')"
      ],
      "metadata": {
        "colab": {
          "base_uri": "https://localhost:8080/"
        },
        "id": "ZHElUQ8hXkq6",
        "outputId": "e4dbd571-c41f-481f-c737-4fba147edaa5"
      },
      "execution_count": null,
      "outputs": [
        {
          "output_type": "stream",
          "name": "stdout",
          "text": [
            "Model saved to /content/drive/MyDrive/CV/cnn_lstm.pth\n"
          ]
        }
      ]
    },
    {
      "cell_type": "code",
      "source": [
        "import torchvision.transforms as transforms\n",
        "from PIL import Image\n",
        "import matplotlib.pyplot as plt\n",
        "\n",
        "def predict_image(model, image_path, transform):\n",
        "    # Load and preprocess the image\n",
        "    image = Image.open(image_path)\n",
        "    image_tensor = transform(image).unsqueeze(0)  # Add batch dimension\n",
        "    device = torch.device(\"cuda\" if torch.cuda.is_available() else \"cpu\")  # Get the available device\n",
        "\n",
        "    # Move the input tensor to the appropriate device\n",
        "    image_tensor = image_tensor.to(device)\n",
        "\n",
        "    # Set the model to evaluation mode\n",
        "    model.eval()\n",
        "\n",
        "    # Move the model to the appropriate device\n",
        "    model = model.to(device)\n",
        "\n",
        "    # Perform the prediction\n",
        "    with torch.no_grad():\n",
        "        outputs = model(image_tensor)\n",
        "        _, predicted = torch.max(outputs, 1)\n",
        "        predicted_class = predicted.item()\n",
        "\n",
        "    # Display the image and predicted class\n",
        "    plt.imshow(image)\n",
        "    plt.axis('off')\n",
        "    plt.title(f'Predicted class: {predicted_class}')\n",
        "    plt.show()\n"
      ],
      "metadata": {
        "id": "aTn3iuyg7vWB"
      },
      "execution_count": null,
      "outputs": []
    },
    {
      "cell_type": "code",
      "source": [
        "EMOTIONS = ['angry', 'disgusted', 'fearful', 'happy', 'sad', 'surprised', 'neutral']"
      ],
      "metadata": {
        "id": "UdxLc62h-NcB"
      },
      "execution_count": null,
      "outputs": []
    },
    {
      "cell_type": "code",
      "source": [
        "image = \"/content/drive/MyDrive/COSC5470/angry2.jpeg\"\n",
        "transform = transforms.Compose([\n",
        "    transforms.Resize((48, 48)),\n",
        "    transforms.Grayscale(),\n",
        "    transforms.ToTensor(),\n",
        "    transforms.Normalize((0.5,), (0.5,))\n",
        "])\n",
        "predict_image(model, image, transform)"
      ],
      "metadata": {
        "colab": {
          "base_uri": "https://localhost:8080/",
          "height": 428
        },
        "id": "zbR4z92k7ygF",
        "outputId": "5bbd379a-672d-4642-e18e-e791232309f9"
      },
      "execution_count": null,
      "outputs": [
        {
          "output_type": "display_data",
          "data": {
            "text/plain": [
              "<Figure size 640x480 with 1 Axes>"
            ],
            "image/png": "[encoded data removed]"
          },
          "metadata": {}
        }
      ]
    }
  ],
  "metadata": {
    "kernelspec": {
      "display_name": "Python 3",
      "name": "python3"
    },
    "language_info": {
      "codemirror_mode": {
        "name": "ipython",
        "version": 3
      },
      "file_extension": ".py",
      "mimetype": "text/x-python",
      "name": "python",
      "nbconvert_exporter": "python",
      "pygments_lexer": "ipython3",
      "version": "3.10.4"
    },
    "orig_nbformat": 4,
    "colab": {
      "provenance": [],
      "machine_shape": "hm",
      "gpuType": "T4"
    },
    "accelerator": "GPU"
  },
  "nbformat": 4,
  "nbformat_minor": 0
}