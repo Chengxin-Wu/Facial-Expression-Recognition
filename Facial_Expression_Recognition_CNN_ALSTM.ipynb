{
  "cells": [
    {
      "cell_type": "code",
      "source": [
        "!pip install transformers\n",
        "!pip install datasets"
      ],
      "metadata": {
        "colab": {
          "base_uri": "https://localhost:8080/"
        },
        "id": "BLxgxmCcvtur",
        "outputId": "a12abe0c-af8b-4ff0-b169-c2aea121fe9a"
      },
      "execution_count": 1,
      "outputs": [
        {
          "output_type": "stream",
          "name": "stdout",
          "text": [
            "Requirement already satisfied: transformers in /usr/local/lib/python3.10/dist-packages (4.40.0)\n",
            "Requirement already satisfied: filelock in /usr/local/lib/python3.10/dist-packages (from transformers) (3.13.4)\n",
            "Requirement already satisfied: huggingface-hub<1.0,>=0.19.3 in /usr/local/lib/python3.10/dist-packages (from transformers) (0.20.3)\n",
            "Requirement already satisfied: numpy>=1.17 in /usr/local/lib/python3.10/dist-packages (from transformers) (1.25.2)\n",
            "Requirement already satisfied: packaging>=20.0 in /usr/local/lib/python3.10/dist-packages (from transformers) (24.0)\n",
            "Requirement already satisfied: pyyaml>=5.1 in /usr/local/lib/python3.10/dist-packages (from transformers) (6.0.1)\n",
            "Requirement already satisfied: regex!=2019.12.17 in /usr/local/lib/python3.10/dist-packages (from transformers) (2023.12.25)\n",
            "Requirement already satisfied: requests in /usr/local/lib/python3.10/dist-packages (from transformers) (2.31.0)\n",
            "Requirement already satisfied: tokenizers<0.20,>=0.19 in /usr/local/lib/python3.10/dist-packages (from transformers) (0.19.1)\n",
            "Requirement already satisfied: safetensors>=0.4.1 in /usr/local/lib/python3.10/dist-packages (from transformers) (0.4.3)\n",
            "Requirement already satisfied: tqdm>=4.27 in /usr/local/lib/python3.10/dist-packages (from transformers) (4.66.2)\n",
            "Requirement already satisfied: fsspec>=2023.5.0 in /usr/local/lib/python3.10/dist-packages (from huggingface-hub<1.0,>=0.19.3->transformers) (2023.6.0)\n",
            "Requirement already satisfied: typing-extensions>=3.7.4.3 in /usr/local/lib/python3.10/dist-packages (from huggingface-hub<1.0,>=0.19.3->transformers) (4.11.0)\n",
            "Requirement already satisfied: charset-normalizer<4,>=2 in /usr/local/lib/python3.10/dist-packages (from requests->transformers) (3.3.2)\n",
            "Requirement already satisfied: idna<4,>=2.5 in /usr/local/lib/python3.10/dist-packages (from requests->transformers) (3.7)\n",
            "Requirement already satisfied: urllib3<3,>=1.21.1 in /usr/local/lib/python3.10/dist-packages (from requests->transformers) (2.0.7)\n",
            "Requirement already satisfied: certifi>=2017.4.17 in /usr/local/lib/python3.10/dist-packages (from requests->transformers) (2024.2.2)\n",
            "Collecting datasets\n",
            "  Downloading datasets-2.19.0-py3-none-any.whl (542 kB)\n",
            "\u001b[2K     \u001b[90m━━━━━━━━━━━━━━━━━━━━━━━━━━━━━━━━━━━━━━━━\u001b[0m \u001b[32m542.0/542.0 kB\u001b[0m \u001b[31m6.2 MB/s\u001b[0m eta \u001b[36m0:00:00\u001b[0m\n",
            "\u001b[?25hRequirement already satisfied: filelock in /usr/local/lib/python3.10/dist-packages (from datasets) (3.13.4)\n",
            "Requirement already satisfied: numpy>=1.17 in /usr/local/lib/python3.10/dist-packages (from datasets) (1.25.2)\n",
            "Requirement already satisfied: pyarrow>=12.0.0 in /usr/local/lib/python3.10/dist-packages (from datasets) (14.0.2)\n",
            "Requirement already satisfied: pyarrow-hotfix in /usr/local/lib/python3.10/dist-packages (from datasets) (0.6)\n",
            "Collecting dill<0.3.9,>=0.3.0 (from datasets)\n",
            "  Downloading dill-0.3.8-py3-none-any.whl (116 kB)\n",
            "\u001b[2K     \u001b[90m━━━━━━━━━━━━━━━━━━━━━━━━━━━━━━━━━━━━━━━━\u001b[0m \u001b[32m116.3/116.3 kB\u001b[0m \u001b[31m7.9 MB/s\u001b[0m eta \u001b[36m0:00:00\u001b[0m\n",
            "\u001b[?25hRequirement already satisfied: pandas in /usr/local/lib/python3.10/dist-packages (from datasets) (2.0.3)\n",
            "Requirement already satisfied: requests>=2.19.0 in /usr/local/lib/python3.10/dist-packages (from datasets) (2.31.0)\n",
            "Requirement already satisfied: tqdm>=4.62.1 in /usr/local/lib/python3.10/dist-packages (from datasets) (4.66.2)\n",
            "Collecting xxhash (from datasets)\n",
            "  Downloading xxhash-3.4.1-cp310-cp310-manylinux_2_17_x86_64.manylinux2014_x86_64.whl (194 kB)\n",
            "\u001b[2K     \u001b[90m━━━━━━━━━━━━━━━━━━━━━━━━━━━━━━━━━━━━━━━━\u001b[0m \u001b[32m194.1/194.1 kB\u001b[0m \u001b[31m9.7 MB/s\u001b[0m eta \u001b[36m0:00:00\u001b[0m\n",
            "\u001b[?25hCollecting multiprocess (from datasets)\n",
            "  Downloading multiprocess-0.70.16-py310-none-any.whl (134 kB)\n",
            "\u001b[2K     \u001b[90m━━━━━━━━━━━━━━━━━━━━━━━━━━━━━━━━━━━━━━━━\u001b[0m \u001b[32m134.8/134.8 kB\u001b[0m \u001b[31m9.7 MB/s\u001b[0m eta \u001b[36m0:00:00\u001b[0m\n",
            "\u001b[?25hRequirement already satisfied: fsspec[http]<=2024.3.1,>=2023.1.0 in /usr/local/lib/python3.10/dist-packages (from datasets) (2023.6.0)\n",
            "Requirement already satisfied: aiohttp in /usr/local/lib/python3.10/dist-packages (from datasets) (3.9.5)\n",
            "Collecting huggingface-hub>=0.21.2 (from datasets)\n",
            "  Downloading huggingface_hub-0.22.2-py3-none-any.whl (388 kB)\n",
            "\u001b[2K     \u001b[90m━━━━━━━━━━━━━━━━━━━━━━━━━━━━━━━━━━━━━━━━\u001b[0m \u001b[32m388.9/388.9 kB\u001b[0m \u001b[31m10.8 MB/s\u001b[0m eta \u001b[36m0:00:00\u001b[0m\n",
            "\u001b[?25hRequirement already satisfied: packaging in /usr/local/lib/python3.10/dist-packages (from datasets) (24.0)\n",
            "Requirement already satisfied: pyyaml>=5.1 in /usr/local/lib/python3.10/dist-packages (from datasets) (6.0.1)\n",
            "Requirement already satisfied: aiosignal>=1.1.2 in /usr/local/lib/python3.10/dist-packages (from aiohttp->datasets) (1.3.1)\n",
            "Requirement already satisfied: attrs>=17.3.0 in /usr/local/lib/python3.10/dist-packages (from aiohttp->datasets) (23.2.0)\n",
            "Requirement already satisfied: frozenlist>=1.1.1 in /usr/local/lib/python3.10/dist-packages (from aiohttp->datasets) (1.4.1)\n",
            "Requirement already satisfied: multidict<7.0,>=4.5 in /usr/local/lib/python3.10/dist-packages (from aiohttp->datasets) (6.0.5)\n",
            "Requirement already satisfied: yarl<2.0,>=1.0 in /usr/local/lib/python3.10/dist-packages (from aiohttp->datasets) (1.9.4)\n",
            "Requirement already satisfied: async-timeout<5.0,>=4.0 in /usr/local/lib/python3.10/dist-packages (from aiohttp->datasets) (4.0.3)\n",
            "Requirement already satisfied: typing-extensions>=3.7.4.3 in /usr/local/lib/python3.10/dist-packages (from huggingface-hub>=0.21.2->datasets) (4.11.0)\n",
            "Requirement already satisfied: charset-normalizer<4,>=2 in /usr/local/lib/python3.10/dist-packages (from requests>=2.19.0->datasets) (3.3.2)\n",
            "Requirement already satisfied: idna<4,>=2.5 in /usr/local/lib/python3.10/dist-packages (from requests>=2.19.0->datasets) (3.7)\n",
            "Requirement already satisfied: urllib3<3,>=1.21.1 in /usr/local/lib/python3.10/dist-packages (from requests>=2.19.0->datasets) (2.0.7)\n",
            "Requirement already satisfied: certifi>=2017.4.17 in /usr/local/lib/python3.10/dist-packages (from requests>=2.19.0->datasets) (2024.2.2)\n",
            "Requirement already satisfied: python-dateutil>=2.8.2 in /usr/local/lib/python3.10/dist-packages (from pandas->datasets) (2.8.2)\n",
            "Requirement already satisfied: pytz>=2020.1 in /usr/local/lib/python3.10/dist-packages (from pandas->datasets) (2023.4)\n",
            "Requirement already satisfied: tzdata>=2022.1 in /usr/local/lib/python3.10/dist-packages (from pandas->datasets) (2024.1)\n",
            "Requirement already satisfied: six>=1.5 in /usr/local/lib/python3.10/dist-packages (from python-dateutil>=2.8.2->pandas->datasets) (1.16.0)\n",
            "Installing collected packages: xxhash, dill, multiprocess, huggingface-hub, datasets\n",
            "  Attempting uninstall: huggingface-hub\n",
            "    Found existing installation: huggingface-hub 0.20.3\n",
            "    Uninstalling huggingface-hub-0.20.3:\n",
            "      Successfully uninstalled huggingface-hub-0.20.3\n",
            "Successfully installed datasets-2.19.0 dill-0.3.8 huggingface-hub-0.22.2 multiprocess-0.70.16 xxhash-3.4.1\n"
          ]
        }
      ]
    },
    {
      "cell_type": "code",
      "source": [
        "from google.colab import drive\n",
        "drive.mount('/content/drive')"
      ],
      "metadata": {
        "colab": {
          "base_uri": "https://localhost:8080/"
        },
        "id": "gOE8aHfYvucw",
        "outputId": "186b8359-d6a6-4bb0-dcf5-ba87554f04e4"
      },
      "execution_count": 2,
      "outputs": [
        {
          "output_type": "stream",
          "name": "stdout",
          "text": [
            "Mounted at /content/drive\n"
          ]
        }
      ]
    },
    {
      "cell_type": "code",
      "source": [],
      "metadata": {
        "id": "bLpRaw5w4Qqx"
      },
      "execution_count": null,
      "outputs": []
    },
    {
      "cell_type": "code",
      "source": [
        "def load_data(data_file):\n",
        "    data = pd.read_csv(data_file)\n",
        "\n",
        "    # Extract pixels and emotions\n",
        "    pixels = data['pixels'].tolist()\n",
        "    emotions = pd.get_dummies(data['emotion']).to_numpy()\n",
        "\n",
        "    # Convert pixels to 3D array and add channel dimension\n",
        "    faces = np.array([np.fromstring(pixel_sequence, dtype=int, sep=' ').reshape(48, 48) for pixel_sequence in pixels])\n",
        "    faces = np.expand_dims(faces, axis=-1)\n",
        "\n",
        "    return faces, emotions"
      ],
      "metadata": {
        "id": "rkAjF_hRAKcZ"
      },
      "execution_count": 3,
      "outputs": []
    },
    {
      "cell_type": "code",
      "source": [
        "import torch\n",
        "from torch.utils.data import Dataset, DataLoader\n",
        "from sklearn.preprocessing import OneHotEncoder\n",
        "\n",
        "class CustomDataset(Dataset):\n",
        "    def __init__(self, data_file, reshape=True, dtype=torch.float32, seed=None):\n",
        "        self.data = pd.read_csv(data_file)\n",
        "        self.images = self.data['pixels'].apply(lambda x: np.fromstring(x, dtype=int, sep=' ').reshape(48, 48))\n",
        "        self.labels = self.data['emotion'].values.reshape(-1, 1)\n",
        "\n",
        "        if reshape:\n",
        "            self.images = np.stack(self.images).reshape(-1, 48*48)\n",
        "\n",
        "        self.labels = OneHotEncoder(sparse=False).fit_transform(self.labels)\n",
        "        self.images = torch.tensor(self.images, dtype=dtype) / 255.0\n",
        "        self.labels = torch.tensor(self.labels, dtype=dtype)\n",
        "\n",
        "    def __len__(self):\n",
        "        return len(self.data)\n",
        "\n",
        "    def __getitem__(self, idx):\n",
        "        return self.images[idx], self.labels[idx]\n"
      ],
      "metadata": {
        "id": "FmeitdgZANyY"
      },
      "execution_count": 4,
      "outputs": []
    },
    {
      "cell_type": "code",
      "source": [
        "import collections\n",
        "import numpy as np\n",
        "import pandas as pd\n",
        "from tensorflow.python.framework import dtypes, random_seed\n",
        "\n",
        "train_data = \"/content/drive/MyDrive/CV/fer2013.csv\""
      ],
      "metadata": {
        "id": "iiRAiYnn0i6G"
      },
      "execution_count": 8,
      "outputs": []
    },
    {
      "cell_type": "code",
      "source": [
        "dataset = CustomDataset(train_data)"
      ],
      "metadata": {
        "colab": {
          "base_uri": "https://localhost:8080/"
        },
        "id": "uJuqEnP91PTg",
        "outputId": "ed473d45-1ca4-4e75-b4d4-bade7e264eb4"
      },
      "execution_count": 9,
      "outputs": [
        {
          "output_type": "stream",
          "name": "stderr",
          "text": [
            "/usr/local/lib/python3.10/dist-packages/sklearn/preprocessing/_encoders.py:868: FutureWarning: `sparse` was renamed to `sparse_output` in version 1.2 and will be removed in 1.4. `sparse_output` is ignored unless you leave `sparse` to its default value.\n",
            "  warnings.warn(\n"
          ]
        }
      ]
    },
    {
      "cell_type": "code",
      "source": [
        "from sklearn.model_selection import train_test_split\n",
        "\n",
        "train_ratio = 0.7\n",
        "val_ratio = 0.15\n",
        "test_ratio = 0.15\n",
        "\n",
        "# Splitting into training and remaining sets\n",
        "train_data, remaining_data = train_test_split(dataset, test_size=(val_ratio + test_ratio))\n",
        "\n",
        "# Splitting remaining set into validation and test sets\n",
        "val_data, test_data = train_test_split(remaining_data, test_size=test_ratio / (val_ratio + test_ratio))\n",
        "\n",
        "# Create DataLoader objects for training, validation, and test sets\n",
        "batch_size = 32\n",
        "train_loader = DataLoader(train_data, batch_size=batch_size, shuffle=True)\n",
        "val_loader = DataLoader(val_data, batch_size=batch_size, shuffle=False)\n",
        "test_loader = DataLoader(test_data, batch_size=batch_size, shuffle=False)\n"
      ],
      "metadata": {
        "id": "V2MAEaXz2IHm"
      },
      "execution_count": 10,
      "outputs": []
    },
    {
      "cell_type": "code",
      "source": [],
      "metadata": {
        "id": "6G8ne1pyeu4_"
      },
      "execution_count": null,
      "outputs": []
    },
    {
      "cell_type": "code",
      "source": [
        "import torch\n",
        "import torch.nn as nn\n",
        "import torch.nn.functional as F\n",
        "\n",
        "class CNN(nn.Module):\n",
        "    def __init__(self):\n",
        "        super(CNN, self).__init__()\n",
        "\n",
        "        # First convolutional layer\n",
        "        self.conv1 = nn.Conv2d(1, 32, kernel_size=3, padding=1)\n",
        "        self.pool1 = nn.MaxPool2d(kernel_size=2, stride=2)\n",
        "\n",
        "        # Second convolutional layer\n",
        "        self.conv2 = nn.Conv2d(32, 64, kernel_size=3, padding=1)\n",
        "        self.pool2 = nn.MaxPool2d(kernel_size=2, stride=2)\n",
        "\n",
        "        # Third convolutional layer\n",
        "        self.conv3 = nn.Conv2d(64, 128, kernel_size=3, padding=1)\n",
        "\n",
        "        # Fourth convolutional layer\n",
        "        self.conv4 = nn.Conv2d(128, 128, kernel_size=3, padding=1)\n",
        "        self.pool3 = nn.MaxPool2d(kernel_size=2, stride=2)\n",
        "\n",
        "        # LSTM layer\n",
        "        self.lstm = nn.LSTM(input_size=4608, hidden_size=128, num_layers=1, batch_first=True)\n",
        "\n",
        "        # Attention layer: compute correlation, attention distribution, and weighted average of hidden states\n",
        "        self.query_vector = nn.Parameter(torch.randn(128))  # Assume query vector is a learnable parameter\n",
        "\n",
        "        # Classification layer\n",
        "        self.classification_layer = nn.Linear(128, 7)  # 128 is the dimension of the context vector, 7 is the number of target classes\n",
        "        self.softmax = nn.Softmax(dim=1)\n",
        "\n",
        "    def forward(self, x):\n",
        "        # Adjust input tensor shape\n",
        "        x = x.view(-1, 1, 48, 48)\n",
        "\n",
        "        # Convolutional and pooling layers\n",
        "        x = self.conv1(x)\n",
        "        x = self.pool1(x)\n",
        "        x = self.conv2(x)\n",
        "        x = self.pool2(x)\n",
        "        x = self.conv3(x)\n",
        "        x = self.conv4(x)\n",
        "        x = self.pool3(x)\n",
        "\n",
        "        # Flatten tensor for LSTM layer\n",
        "        x = x.view(x.size(0), -1)\n",
        "\n",
        "        # LSTM part\n",
        "        x, _ = self.lstm(x.unsqueeze(1))\n",
        "\n",
        "        # Attention layer\n",
        "        query_vector = self.query_vector.unsqueeze(0).expand(x.size(0), -1)\n",
        "        correlation_scores = torch.bmm(x, query_vector.unsqueeze(2)).squeeze(2)  # Dot product correlation\n",
        "        attention_distribution = F.softmax(correlation_scores, dim=1)  # Attention distribution\n",
        "        context_vector = torch.bmm(attention_distribution.unsqueeze(1), x).squeeze(1)  # Weighted average of hidden state\n",
        "\n",
        "        # Classification layer and softmax layer\n",
        "        x = self.classification_layer(context_vector)\n",
        "        x = self.softmax(x)\n",
        "\n",
        "        return x"
      ],
      "metadata": {
        "id": "0bjrQpUwHMVh"
      },
      "execution_count": 65,
      "outputs": []
    },
    {
      "cell_type": "code",
      "source": [
        "model = CNN()\n",
        "\n",
        "# Define the loss function and optimizer\n",
        "criterion = nn.CrossEntropyLoss()\n",
        "optimizer = optim.Adam(model.parameters(), lr=0.0001, weight_decay=0.0001)\n",
        "\n",
        "# Define the device\n",
        "device = torch.device(\"cuda\" if torch.cuda.is_available() else \"cpu\")\n",
        "\n",
        "# Move model to the device\n",
        "model.to(device)\n",
        "\n",
        "# Training loop\n",
        "for epoch in range(num_epochs):\n",
        "    model.train()  # Set model to training mode\n",
        "    for images, labels in train_loader:\n",
        "        images, labels = images.to(device), labels.to(device)  # Move data to device\n",
        "        optimizer.zero_grad()  # Zero the gradients\n",
        "        outputs = model(images)  # Forward pass\n",
        "        loss = criterion(outputs, torch.argmax(labels, dim=1))  # Compute the loss\n",
        "        loss.backward()  # Backward pass\n",
        "        optimizer.step()  # Update the weights\n",
        "\n",
        "    # Validate the model\n",
        "    model.eval()  # Set model to evaluation mode\n",
        "    val_losses = []\n",
        "    val_predictions = []\n",
        "    val_true_labels = []\n",
        "    with torch.no_grad():\n",
        "        for images, labels in val_loader:\n",
        "            images, labels = images.to(device), labels.to(device)  # Move data to device\n",
        "            outputs = model(images)  # Forward pass\n",
        "            val_loss = criterion(outputs, torch.argmax(labels, dim=1))  # Compute the loss\n",
        "            val_losses.append(val_loss.item())\n",
        "            val_predictions.extend(torch.argmax(outputs, dim=1).cpu().numpy())\n",
        "            val_true_labels.extend(torch.argmax(labels, dim=1).cpu().numpy())\n",
        "\n",
        "    # Calculate validation accuracy\n",
        "    val_accuracy = accuracy_score(val_true_labels, val_predictions)\n",
        "\n",
        "    # Print epoch information\n",
        "    print(f'Epoch [{epoch+1}/{num_epochs}], '\n",
        "          f'Training Loss: {loss.item():.4f}, '\n",
        "          f'Validation Loss: {sum(val_losses)/len(val_losses)}, '\n",
        "          f'Validation Accuracy: {val_accuracy:.4f}')"
      ],
      "metadata": {
        "colab": {
          "base_uri": "https://localhost:8080/"
        },
        "id": "n2YTHu-Nj6jw",
        "outputId": "fa7f7b48-3936-4218-8e3f-a7c32ea8ca80"
      },
      "execution_count": 66,
      "outputs": [
        {
          "output_type": "stream",
          "name": "stdout",
          "text": [
            "Epoch [1/100], Training Loss: 1.9012, Validation Loss: 1.8685830203739144, Validation Accuracy: 0.2686\n",
            "Epoch [2/100], Training Loss: 1.8239, Validation Loss: 1.786194900083824, Validation Accuracy: 0.3836\n",
            "Epoch [3/100], Training Loss: 1.7412, Validation Loss: 1.7604738135309614, Validation Accuracy: 0.3959\n",
            "Epoch [4/100], Training Loss: 1.7592, Validation Loss: 1.740753511705342, Validation Accuracy: 0.4217\n",
            "Epoch [5/100], Training Loss: 1.7609, Validation Loss: 1.7338019609451294, Validation Accuracy: 0.4232\n",
            "Epoch [6/100], Training Loss: 1.7276, Validation Loss: 1.7238835653609779, Validation Accuracy: 0.4371\n",
            "Epoch [7/100], Training Loss: 1.5919, Validation Loss: 1.7156075126320653, Validation Accuracy: 0.4382\n",
            "Epoch [8/100], Training Loss: 1.7042, Validation Loss: 1.7071879319185337, Validation Accuracy: 0.4553\n",
            "Epoch [9/100], Training Loss: 1.6474, Validation Loss: 1.6999454519452428, Validation Accuracy: 0.4605\n",
            "Epoch [10/100], Training Loss: 1.6439, Validation Loss: 1.694844486445365, Validation Accuracy: 0.4728\n",
            "Epoch [11/100], Training Loss: 1.5898, Validation Loss: 1.688765964564487, Validation Accuracy: 0.4776\n",
            "Epoch [12/100], Training Loss: 1.6983, Validation Loss: 1.685035607518529, Validation Accuracy: 0.4782\n",
            "Epoch [13/100], Training Loss: 1.5358, Validation Loss: 1.6786448539361445, Validation Accuracy: 0.4858\n",
            "Epoch [14/100], Training Loss: 1.5091, Validation Loss: 1.674572548217322, Validation Accuracy: 0.4880\n",
            "Epoch [15/100], Training Loss: 1.6243, Validation Loss: 1.6692284296250202, Validation Accuracy: 0.4966\n",
            "Epoch [16/100], Training Loss: 1.6605, Validation Loss: 1.6637376532752133, Validation Accuracy: 0.5068\n",
            "Epoch [17/100], Training Loss: 1.6203, Validation Loss: 1.6610763425657735, Validation Accuracy: 0.5094\n",
            "Epoch [18/100], Training Loss: 1.5299, Validation Loss: 1.658927895613676, Validation Accuracy: 0.5046\n",
            "Epoch [19/100], Training Loss: 1.5611, Validation Loss: 1.6599231655075706, Validation Accuracy: 0.5092\n",
            "Epoch [20/100], Training Loss: 1.5085, Validation Loss: 1.65659171801347, Validation Accuracy: 0.5092\n",
            "Epoch [21/100], Training Loss: 1.5605, Validation Loss: 1.6524381404797706, Validation Accuracy: 0.5150\n",
            "Epoch [22/100], Training Loss: 1.3894, Validation Loss: 1.6532158096866494, Validation Accuracy: 0.5135\n",
            "Epoch [23/100], Training Loss: 1.5536, Validation Loss: 1.6495173400675758, Validation Accuracy: 0.5129\n",
            "Epoch [24/100], Training Loss: 1.5372, Validation Loss: 1.6481430361256797, Validation Accuracy: 0.5194\n",
            "Epoch [25/100], Training Loss: 1.4445, Validation Loss: 1.64652367668039, Validation Accuracy: 0.5198\n",
            "Epoch [26/100], Training Loss: 1.4845, Validation Loss: 1.645905382534456, Validation Accuracy: 0.5203\n",
            "Epoch [27/100], Training Loss: 1.3701, Validation Loss: 1.649667182617639, Validation Accuracy: 0.5153\n",
            "Epoch [28/100], Training Loss: 1.3851, Validation Loss: 1.6471364787344396, Validation Accuracy: 0.5176\n",
            "Epoch [29/100], Training Loss: 1.4453, Validation Loss: 1.6451200627716336, Validation Accuracy: 0.5194\n",
            "Epoch [30/100], Training Loss: 1.3974, Validation Loss: 1.6446596412263679, Validation Accuracy: 0.5205\n",
            "Epoch [31/100], Training Loss: 1.3907, Validation Loss: 1.643071481462061, Validation Accuracy: 0.5198\n",
            "Epoch [32/100], Training Loss: 1.3922, Validation Loss: 1.6418632741510515, Validation Accuracy: 0.5209\n",
            "Epoch [33/100], Training Loss: 1.4350, Validation Loss: 1.6433751413808066, Validation Accuracy: 0.5244\n",
            "Epoch [34/100], Training Loss: 1.4131, Validation Loss: 1.6440301385856944, Validation Accuracy: 0.5161\n",
            "Epoch [35/100], Training Loss: 1.3134, Validation Loss: 1.6423975984020347, Validation Accuracy: 0.5185\n",
            "Epoch [36/100], Training Loss: 1.2966, Validation Loss: 1.6416045843496831, Validation Accuracy: 0.5202\n",
            "Epoch [37/100], Training Loss: 1.4267, Validation Loss: 1.6388112214895396, Validation Accuracy: 0.5213\n",
            "Epoch [38/100], Training Loss: 1.2981, Validation Loss: 1.6383628880483865, Validation Accuracy: 0.5237\n",
            "Epoch [39/100], Training Loss: 1.4366, Validation Loss: 1.6406223012145453, Validation Accuracy: 0.5200\n",
            "Epoch [40/100], Training Loss: 1.2353, Validation Loss: 1.6461305018712784, Validation Accuracy: 0.5125\n",
            "Epoch [41/100], Training Loss: 1.2839, Validation Loss: 1.642548800220151, Validation Accuracy: 0.5192\n",
            "Epoch [42/100], Training Loss: 1.3393, Validation Loss: 1.6415834321072822, Validation Accuracy: 0.5172\n",
            "Epoch [43/100], Training Loss: 1.3409, Validation Loss: 1.6387532610865034, Validation Accuracy: 0.5252\n",
            "Epoch [44/100], Training Loss: 1.3275, Validation Loss: 1.6384227889529346, Validation Accuracy: 0.5192\n",
            "Epoch [45/100], Training Loss: 1.2369, Validation Loss: 1.6385233105992425, Validation Accuracy: 0.5239\n",
            "Epoch [46/100], Training Loss: 1.3162, Validation Loss: 1.6359731847717918, Validation Accuracy: 0.5242\n",
            "Epoch [47/100], Training Loss: 1.3198, Validation Loss: 1.6376405580509343, Validation Accuracy: 0.5222\n",
            "Epoch [48/100], Training Loss: 1.2585, Validation Loss: 1.6390840012646286, Validation Accuracy: 0.5192\n",
            "Epoch [49/100], Training Loss: 1.2394, Validation Loss: 1.6419710188927734, Validation Accuracy: 0.5194\n",
            "Epoch [50/100], Training Loss: 1.2732, Validation Loss: 1.641069690856708, Validation Accuracy: 0.5159\n",
            "Epoch [51/100], Training Loss: 1.2481, Validation Loss: 1.639067826891792, Validation Accuracy: 0.5209\n",
            "Epoch [52/100], Training Loss: 1.2525, Validation Loss: 1.6393502294664553, Validation Accuracy: 0.5190\n",
            "Epoch [53/100], Training Loss: 1.2942, Validation Loss: 1.643320088555827, Validation Accuracy: 0.5187\n",
            "Epoch [54/100], Training Loss: 1.3315, Validation Loss: 1.643699248866922, Validation Accuracy: 0.5138\n",
            "Epoch [55/100], Training Loss: 1.3039, Validation Loss: 1.637332658090535, Validation Accuracy: 0.5259\n",
            "Epoch [56/100], Training Loss: 1.1875, Validation Loss: 1.6393614048083154, Validation Accuracy: 0.5183\n",
            "Epoch [57/100], Training Loss: 1.2138, Validation Loss: 1.6370747914681067, Validation Accuracy: 0.5259\n",
            "Epoch [58/100], Training Loss: 1.2594, Validation Loss: 1.640778357460654, Validation Accuracy: 0.5161\n",
            "Epoch [59/100], Training Loss: 1.3274, Validation Loss: 1.6373879063058887, Validation Accuracy: 0.5218\n",
            "Epoch [60/100], Training Loss: 1.2714, Validation Loss: 1.6391406059265137, Validation Accuracy: 0.5190\n",
            "Epoch [61/100], Training Loss: 1.2823, Validation Loss: 1.6417788309458445, Validation Accuracy: 0.5161\n",
            "Epoch [62/100], Training Loss: 1.3044, Validation Loss: 1.6386578245275825, Validation Accuracy: 0.5146\n",
            "Epoch [63/100], Training Loss: 1.3369, Validation Loss: 1.6416068888274875, Validation Accuracy: 0.5179\n",
            "Epoch [64/100], Training Loss: 1.2891, Validation Loss: 1.6399549937107154, Validation Accuracy: 0.5196\n",
            "Epoch [65/100], Training Loss: 1.2581, Validation Loss: 1.6405444963443914, Validation Accuracy: 0.5179\n",
            "Epoch [66/100], Training Loss: 1.2365, Validation Loss: 1.6409651880433573, Validation Accuracy: 0.5146\n",
            "Epoch [67/100], Training Loss: 1.1885, Validation Loss: 1.6390879358765642, Validation Accuracy: 0.5203\n",
            "Epoch [68/100], Training Loss: 1.2410, Validation Loss: 1.6369530738458125, Validation Accuracy: 0.5215\n",
            "Epoch [69/100], Training Loss: 1.1700, Validation Loss: 1.638834470827904, Validation Accuracy: 0.5213\n",
            "Epoch [70/100], Training Loss: 1.2805, Validation Loss: 1.6364395477362639, Validation Accuracy: 0.5231\n",
            "Epoch [71/100], Training Loss: 1.2685, Validation Loss: 1.6363105886786646, Validation Accuracy: 0.5216\n",
            "Epoch [72/100], Training Loss: 1.2318, Validation Loss: 1.6351928541646201, Validation Accuracy: 0.5216\n",
            "Epoch [73/100], Training Loss: 1.2646, Validation Loss: 1.6359830276500544, Validation Accuracy: 0.5239\n",
            "Epoch [74/100], Training Loss: 1.2275, Validation Loss: 1.636401900172939, Validation Accuracy: 0.5220\n",
            "Epoch [75/100], Training Loss: 1.2278, Validation Loss: 1.6373512921248667, Validation Accuracy: 0.5220\n",
            "Epoch [76/100], Training Loss: 1.2103, Validation Loss: 1.6378993212118658, Validation Accuracy: 0.5239\n",
            "Epoch [77/100], Training Loss: 1.1702, Validation Loss: 1.628355548932002, Validation Accuracy: 0.5296\n",
            "Epoch [78/100], Training Loss: 1.2369, Validation Loss: 1.6281254827623537, Validation Accuracy: 0.5315\n",
            "Epoch [79/100], Training Loss: 1.2011, Validation Loss: 1.627180648273265, Validation Accuracy: 0.5328\n",
            "Epoch [80/100], Training Loss: 1.2525, Validation Loss: 1.6330730117989716, Validation Accuracy: 0.5315\n",
            "Epoch [81/100], Training Loss: 1.2723, Validation Loss: 1.63174951781888, Validation Accuracy: 0.5296\n",
            "Epoch [82/100], Training Loss: 1.2762, Validation Loss: 1.6265698713663768, Validation Accuracy: 0.5356\n",
            "Epoch [83/100], Training Loss: 1.1750, Validation Loss: 1.630830444527801, Validation Accuracy: 0.5302\n",
            "Epoch [84/100], Training Loss: 1.3110, Validation Loss: 1.6279395190921762, Validation Accuracy: 0.5313\n",
            "Epoch [85/100], Training Loss: 1.2044, Validation Loss: 1.6275062222452559, Validation Accuracy: 0.5333\n",
            "Epoch [86/100], Training Loss: 1.2629, Validation Loss: 1.6331675736861822, Validation Accuracy: 0.5237\n",
            "Epoch [87/100], Training Loss: 1.2173, Validation Loss: 1.635046535695093, Validation Accuracy: 0.5233\n",
            "Epoch [88/100], Training Loss: 1.2852, Validation Loss: 1.631396180779271, Validation Accuracy: 0.5268\n",
            "Epoch [89/100], Training Loss: 1.2065, Validation Loss: 1.630088014715522, Validation Accuracy: 0.5307\n",
            "Epoch [90/100], Training Loss: 1.2579, Validation Loss: 1.6316130746751143, Validation Accuracy: 0.5300\n",
            "Epoch [91/100], Training Loss: 1.2793, Validation Loss: 1.6303233698274961, Validation Accuracy: 0.5248\n",
            "Epoch [92/100], Training Loss: 1.2561, Validation Loss: 1.6284514404612886, Validation Accuracy: 0.5352\n",
            "Epoch [93/100], Training Loss: 1.1724, Validation Loss: 1.625687846065273, Validation Accuracy: 0.5332\n",
            "Epoch [94/100], Training Loss: 1.1741, Validation Loss: 1.6283075731886913, Validation Accuracy: 0.5330\n",
            "Epoch [95/100], Training Loss: 1.2650, Validation Loss: 1.6365440992208629, Validation Accuracy: 0.5244\n",
            "Epoch [96/100], Training Loss: 1.2416, Validation Loss: 1.6390220025587363, Validation Accuracy: 0.5172\n",
            "Epoch [97/100], Training Loss: 1.2016, Validation Loss: 1.6329789493210922, Validation Accuracy: 0.5257\n",
            "Epoch [98/100], Training Loss: 1.2291, Validation Loss: 1.6310514846497033, Validation Accuracy: 0.5281\n",
            "Epoch [99/100], Training Loss: 1.2619, Validation Loss: 1.6288359517881856, Validation Accuracy: 0.5291\n",
            "Epoch [100/100], Training Loss: 1.2120, Validation Loss: 1.639870277523289, Validation Accuracy: 0.5192\n"
          ]
        }
      ]
    },
    {
      "cell_type": "code",
      "source": [
        "import torchvision.transforms as transforms\n",
        "from PIL import Image\n",
        "import matplotlib.pyplot as plt\n",
        "\n",
        "def predict_image(model, image_path, transform):\n",
        "    # Load and preprocess the image\n",
        "    image = Image.open(image_path)\n",
        "    image_tensor = transform(image).unsqueeze(0)  # Add batch dimension\n",
        "    device = torch.device(\"cuda\" if torch.cuda.is_available() else \"cpu\")  # Get the available device\n",
        "\n",
        "    # Move the input tensor to the appropriate device\n",
        "    image_tensor = image_tensor.to(device)\n",
        "\n",
        "    # Set the model to evaluation mode\n",
        "    model.eval()\n",
        "\n",
        "    # Move the model to the appropriate device\n",
        "    model = model.to(device)\n",
        "\n",
        "    # Perform the prediction\n",
        "    with torch.no_grad():\n",
        "        outputs = model(image_tensor)\n",
        "        _, predicted = torch.max(outputs, 1)\n",
        "        predicted_class = predicted.item()\n",
        "\n",
        "    # Display the image and predicted class\n",
        "    plt.imshow(image)\n",
        "    plt.axis('off')\n",
        "    plt.title(f'Predicted class: {predicted_class}')\n",
        "    plt.show()\n"
      ],
      "metadata": {
        "id": "aTn3iuyg7vWB"
      },
      "execution_count": null,
      "outputs": []
    },
    {
      "cell_type": "code",
      "source": [
        "EMOTIONS = ['angry', 'disgusted', 'fearful', 'happy', 'sad', 'surprised', 'neutral']"
      ],
      "metadata": {
        "id": "UdxLc62h-NcB"
      },
      "execution_count": null,
      "outputs": []
    },
    {
      "cell_type": "code",
      "source": [
        "image = \"/content/drive/MyDrive/COSC5470/angry2.jpeg\"\n",
        "transform = transforms.Compose([\n",
        "    transforms.Resize((48, 48)),\n",
        "    transforms.Grayscale(),\n",
        "    transforms.ToTensor(),\n",
        "    transforms.Normalize((0.5,), (0.5,))\n",
        "])\n",
        "predict_image(model, image, transform)"
      ],
      "metadata": {
        "colab": {
          "base_uri": "https://localhost:8080/",
          "height": 428
        },
        "id": "zbR4z92k7ygF",
        "outputId": "5bbd379a-672d-4642-e18e-e791232309f9"
      },
      "execution_count": null,
      "outputs": [
        {
          "output_type": "display_data",
          "data": {
            "text/plain": [
              "<Figure size 640x480 with 1 Axes>"
            ],
            "image/png": "[encoded data removed]"
          },
          "metadata": {}
        }
      ]
    }
  ],
  "metadata": {
    "kernelspec": {
      "display_name": "Python 3",
      "name": "python3"
    },
    "language_info": {
      "codemirror_mode": {
        "name": "ipython",
        "version": 3
      },
      "file_extension": ".py",
      "mimetype": "text/x-python",
      "name": "python",
      "nbconvert_exporter": "python",
      "pygments_lexer": "ipython3",
      "version": "3.10.4"
    },
    "orig_nbformat": 4,
    "colab": {
      "provenance": [],
      "gpuType": "T4"
    },
    "accelerator": "GPU"
  },
  "nbformat": 4,
  "nbformat_minor": 0
}